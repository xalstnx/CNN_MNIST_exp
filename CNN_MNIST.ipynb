{
 "cells": [
  {
   "cell_type": "code",
   "execution_count": 1,
   "metadata": {},
   "outputs": [],
   "source": [
    "import torch\n",
    "import torch.optim as optim\n",
    "import torch.nn as nn\n",
    "import torchvision\n",
    "from torchvision import datasets\n",
    "from torchvision import transforms \n",
    "import tqdm\n",
    "import numpy as np\n",
    "from torch.nn import ModuleList"
   ]
  },
  {
   "cell_type": "code",
   "execution_count": 2,
   "metadata": {},
   "outputs": [],
   "source": [
    "import cv2"
   ]
  },
  {
   "cell_type": "code",
   "execution_count": 3,
   "metadata": {},
   "outputs": [],
   "source": [
    "Iearning_rate = 1e-3 #lr 1e-1 일때 0.19정도이고, 1e-2 일때 0.83 정도이고, 1e-3 일때 0.87 정도이고, 1e-4일때 0.81 정도이고, 5e-5일때 0.75정도로 나옴\n",
    "batch_size = 64"
   ]
  },
  {
   "cell_type": "code",
   "execution_count": 4,
   "metadata": {},
   "outputs": [
    {
     "name": "stdout",
     "output_type": "stream",
     "text": [
      "Using downloaded and verified file: D:SVHN\\train_32x32.mat\n",
      "Using downloaded and verified file: D:SVHN\\test_32x32.mat\n"
     ]
    }
   ],
   "source": [
    "train_data_svhn = datasets.SVHN('D:SVHN', split='train', download=True, transform=transforms.Compose([transforms.Resize(28),transforms.ToTensor()]))\n",
    "test_data_svhn = datasets.SVHN('D:SVHN', split='test', download=True, transform=transforms.Compose([transforms.Resize(28),transforms.ToTensor()]))"
   ]
  },
  {
   "cell_type": "code",
   "execution_count": 5,
   "metadata": {},
   "outputs": [],
   "source": [
    "train_data_mnist = datasets.MNIST('D:datasets', train=True, download=True, transform=transforms.ToTensor())\n",
    "test_data_mnist = datasets.MNIST('D:datasets', train=False, download=True, transform=transforms.ToTensor())"
   ]
  },
  {
   "cell_type": "code",
   "execution_count": 6,
   "metadata": {},
   "outputs": [
    {
     "name": "stdout",
     "output_type": "stream",
     "text": [
      "60000\n",
      "10000\n",
      "torch.Size([1, 28, 28])\n"
     ]
    }
   ],
   "source": [
    "print(len(train_data_mnist))\n",
    "print(len(test_data_mnist))\n",
    "print(train_data_mnist[0][0].shape)\n"
   ]
  },
  {
   "cell_type": "code",
   "execution_count": 7,
   "metadata": {},
   "outputs": [],
   "source": [
    "#cv2로 mnist 이미지 만들기\n",
    "def mnist_image_augment(mnist, scale=True, rotate=True, shear=True, colour=True, gaussian=False, invert=True):\n",
    "    l = len(mnist)\n",
    "\n",
    "    SC = np.random.normal(1, 0.3, size=l) # scale\n",
    "    SH = np.random.normal(0, 1, size=(l, 3, 2)) # shear\n",
    "    R = np.random.normal(0, 20, size=l) # rotate\n",
    "    C = np.random.randint(21, size=l) # colour\n",
    "    G = np.random.randint(30, size=l) # noise\n",
    "    I = np.random.randint(2, size=l) # invert\n",
    "\n",
    "    augmented = []\n",
    "\n",
    "    for i, t in enumerate(mnist):\n",
    "        X, y = t[0], t[1]\n",
    "        X = X.numpy()\n",
    "        X = (np.reshape(X, (28, 28, 1)) * 255).astype(np.uint8)\n",
    "        \n",
    "        if scale or rotate:\n",
    "            if scale:\n",
    "                sc = SC[i] if SC[i] >= 0 else -SC[i]\n",
    "            else:\n",
    "                sc = 1\n",
    "            r = R[i] if rotate else 0\n",
    "\n",
    "            M = cv2.getRotationMatrix2D((14, 14), r, sc)\n",
    "            X = cv2.warpAffine(X, M, (28, 28))\n",
    "        \n",
    "        if shear:\n",
    "            pts1 = np.float32([[4, 4], [4, 24], [24, 4]])\n",
    "            pts2 = np.float32([[4+SH[i][0][0], 4+SH[i][0][1]], [4+SH[i][1][0], 24+SH[i][1][1]], [24+SH[i][2][0], 4+SH[i][2][1]]])\n",
    "            \n",
    "            M = cv2.getAffineTransform(pts1, pts2)\n",
    "            X = cv2.warpAffine(X, M, (28, 28))\n",
    "        \n",
    "        if colour:\n",
    "            X = cv2.applyColorMap(X, C[i])\n",
    "        \n",
    "        if gaussian:\n",
    "            g = G[i]/100 if G[i] > 0 else - G[i]/100\n",
    "            gauss = np.random.normal(0, g**0.5, X.shape)\n",
    "            X = (X + gauss).astype(np.uint8)\n",
    "\n",
    "        if invert:\n",
    "            X = cv2.bitwise_not(X)\n",
    "        \n",
    "        recover = (np.reshape(X, (28, 28, 3)) / 255).astype(np.float32)   \n",
    "        X = torch.from_numpy(recover)\n",
    "        augmented.append([X, y])\n",
    "    \n",
    "    return augmented"
   ]
  },
  {
   "cell_type": "code",
   "execution_count": 8,
   "metadata": {},
   "outputs": [],
   "source": [
    "augmented_train = mnist_image_augment(train_data_mnist)\n",
    "augmented_test = mnist_image_augment(test_data_mnist)"
   ]
  },
  {
   "cell_type": "code",
   "execution_count": 9,
   "metadata": {},
   "outputs": [],
   "source": [
    "def augment_reshape(augmented):\n",
    "    newaug = []\n",
    "    for i in range(len(augmented)):\n",
    "        augment = torch.Tensor(augmented[i][0])\n",
    "        #augment = augmented[i][0].numpy()\n",
    "        augment = (np.reshape(augment, (28, 28, 3)))\n",
    "        augment = np.transpose(augment, (2,0,1))\n",
    "        newaug.append([augment, augmented[i][1]])\n",
    "    return newaug"
   ]
  },
  {
   "cell_type": "code",
   "execution_count": 10,
   "metadata": {},
   "outputs": [],
   "source": [
    "train_data_trans_mnist = augment_reshape(augmented_train)\n",
    "test_data_trans_mnist = augment_reshape(augmented_test)"
   ]
  },
  {
   "cell_type": "code",
   "execution_count": 11,
   "metadata": {},
   "outputs": [],
   "source": [
    "train_datas = torch.utils.data.ConcatDataset([train_data_trans_mnist, train_data_svhn])\n",
    "test_datas = torch.utils.data.ConcatDataset([test_data_trans_mnist, test_data_svhn])"
   ]
  },
  {
   "cell_type": "code",
   "execution_count": 12,
   "metadata": {},
   "outputs": [],
   "source": [
    "train_set, val_set = torch.utils.data.random_split(train_datas, [123257,10000])"
   ]
  },
  {
   "cell_type": "code",
   "execution_count": 14,
   "metadata": {},
   "outputs": [],
   "source": [
    "train_loader = torch.utils.data.DataLoader(train_set, batch_size = batch_size, shuffle=True)\n",
    "dev_loader = torch.utils.data.DataLoader(val_set, batch_size = batch_size)\n",
    "test_loader = torch.utils.data.DataLoader(test_datas, batch_size = batch_size, shuffle=True)"
   ]
  },
  {
   "cell_type": "code",
   "execution_count": 15,
   "metadata": {},
   "outputs": [],
   "source": [
    "class CNN(torch.nn.Module):\n",
    "    def __init__(self):\n",
    "        super(CNN, self).__init__()\n",
    "        self.keep_prob = 0.8\n",
    "        \n",
    "        n_channels_1 = 6\n",
    "        n_channels_2 = 16\n",
    "        \n",
    "        self.layer1 = torch.nn.Sequential(\n",
    "            torch.nn.Conv2d(3, n_channels_1, kernel_size=3, stride=1),\n",
    "            torch.nn.BatchNorm2d(n_channels_1),\n",
    "            #사이에 batch_normalization을 해야함\n",
    "            torch.nn.ReLU(),\n",
    "            torch.nn.MaxPool2d(kernel_size=2, stride=2))\n",
    "        \n",
    "        self.layer2 = torch.nn.Sequential(\n",
    "            torch.nn.Conv2d(n_channels_1, n_channels_2, kernel_size=5, stride=1),\n",
    "            torch.nn.BatchNorm2d(n_channels_2),\n",
    "            torch.nn.ReLU(),\n",
    "            torch.nn.MaxPool2d(kernel_size=2, stride=2))\n",
    "\n",
    "        self.fc3 = torch.nn.Linear(4 * 4 * n_channels_2, 120, bias=True)\n",
    "        torch.nn.init.xavier_uniform_(self.fc3.weight)\n",
    "        self.layer3 = torch.nn.Sequential(\n",
    "            self.fc3,\n",
    "            torch.nn.ReLU(),\n",
    "            torch.nn.Dropout(p=1 - self.keep_prob))\n",
    "        \n",
    "        self.fc4 = torch.nn.Linear(120, 80, bias=True)\n",
    "        torch.nn.init.xavier_uniform_(self.fc4.weight)\n",
    "        self.layer4 = torch.nn.Sequential(\n",
    "            self.fc4,\n",
    "            torch.nn.ReLU(),\n",
    "            torch.nn.Dropout(p=1 - self.keep_prob))\n",
    "        \n",
    "        self.fc5 = torch.nn.Linear(80, 10, bias=True)\n",
    "        torch.nn.init.xavier_uniform_(self.fc5.weight)\n",
    "        \n",
    "    def forward(self, x):\n",
    "        out = self.layer1(x)\n",
    "        out = self.layer2(out)\n",
    "        out = out.view(out.size(0), -1)\n",
    "        out = self.layer3(out)\n",
    "        out = self.layer4(out)\n",
    "        out = self.fc5(out)\n",
    "        return out"
   ]
  },
  {
   "cell_type": "code",
   "execution_count": 16,
   "metadata": {},
   "outputs": [],
   "source": [
    "def test(data_loader, model):\n",
    "    model.eval()\n",
    "    n_predict = 0\n",
    "    n_correct = 0\n",
    "    with torch.no_grad():\n",
    "        for X, Y in tqdm.tqdm(data_loader):\n",
    "            y_hat = model(X)\n",
    "            y_hat.argmax()\n",
    "            \n",
    "            _, predicted = torch.max(y_hat, 1)\n",
    "             \n",
    "            n_predict += len(predicted)\n",
    "            n_correct += (Y == predicted).sum()\n",
    "            \n",
    "    accuracy = n_correct/n_predict\n",
    "    print(f\"Accuracy: {accuracy} ()\")"
   ]
  },
  {
   "cell_type": "code",
   "execution_count": 17,
   "metadata": {},
   "outputs": [],
   "source": [
    "model = CNN()\n",
    "criterion = torch.nn.CrossEntropyLoss()\n",
    "optimizer = torch.optim.Adam(model.parameters(), lr=Iearning_rate)"
   ]
  },
  {
   "cell_type": "code",
   "execution_count": 18,
   "metadata": {},
   "outputs": [
    {
     "name": "stderr",
     "output_type": "stream",
     "text": [
      "100%|██████████████████████████████████████████████████████████████████████████████| 1926/1926 [00:25<00:00, 76.74it/s]\n",
      "  9%|███████▏                                                                        | 14/157 [00:00<00:01, 132.43it/s]"
     ]
    },
    {
     "name": "stdout",
     "output_type": "stream",
     "text": [
      "[Epoch:    1] cost = 1.10919599\n",
      "Dev\n"
     ]
    },
    {
     "name": "stderr",
     "output_type": "stream",
     "text": [
      "100%|███████████████████████████████████████████████████████████████████████████████| 157/157 [00:01<00:00, 141.18it/s]\n",
      "  0%|▎                                                                                | 7/1926 [00:00<00:28, 67.49it/s]"
     ]
    },
    {
     "name": "stdout",
     "output_type": "stream",
     "text": [
      "Accuracy: 0.7878000140190125 ()\n"
     ]
    },
    {
     "name": "stderr",
     "output_type": "stream",
     "text": [
      "100%|██████████████████████████████████████████████████████████████████████████████| 1926/1926 [00:25<00:00, 75.80it/s]\n",
      "  9%|███████▏                                                                        | 14/157 [00:00<00:01, 134.98it/s]"
     ]
    },
    {
     "name": "stdout",
     "output_type": "stream",
     "text": [
      "[Epoch:    2] cost = 0.652603521\n",
      "Dev\n"
     ]
    },
    {
     "name": "stderr",
     "output_type": "stream",
     "text": [
      "100%|███████████████████████████████████████████████████████████████████████████████| 157/157 [00:01<00:00, 142.20it/s]\n",
      "  0%|▎                                                                                | 8/1926 [00:00<00:25, 74.27it/s]"
     ]
    },
    {
     "name": "stdout",
     "output_type": "stream",
     "text": [
      "Accuracy: 0.8417999744415283 ()\n"
     ]
    },
    {
     "name": "stderr",
     "output_type": "stream",
     "text": [
      "100%|██████████████████████████████████████████████████████████████████████████████| 1926/1926 [00:25<00:00, 76.05it/s]\n",
      " 17%|█████████████▊                                                                  | 27/157 [00:00<00:00, 133.62it/s]"
     ]
    },
    {
     "name": "stdout",
     "output_type": "stream",
     "text": [
      "[Epoch:    3] cost = 0.559351345\n",
      "Dev\n"
     ]
    },
    {
     "name": "stderr",
     "output_type": "stream",
     "text": [
      "100%|███████████████████████████████████████████████████████████████████████████████| 157/157 [00:01<00:00, 134.78it/s]\n",
      "  0%|▍                                                                                | 9/1926 [00:00<00:23, 82.79it/s]"
     ]
    },
    {
     "name": "stdout",
     "output_type": "stream",
     "text": [
      "Accuracy: 0.861299991607666 ()\n"
     ]
    },
    {
     "name": "stderr",
     "output_type": "stream",
     "text": [
      "100%|██████████████████████████████████████████████████████████████████████████████| 1926/1926 [00:26<00:00, 73.63it/s]\n",
      "  8%|██████▌                                                                         | 13/157 [00:00<00:01, 129.06it/s]"
     ]
    },
    {
     "name": "stdout",
     "output_type": "stream",
     "text": [
      "[Epoch:    4] cost = 0.511287958\n",
      "Dev\n"
     ]
    },
    {
     "name": "stderr",
     "output_type": "stream",
     "text": [
      "100%|███████████████████████████████████████████████████████████████████████████████| 157/157 [00:01<00:00, 139.06it/s]\n",
      "  0%|▎                                                                                | 8/1926 [00:00<00:24, 77.88it/s]"
     ]
    },
    {
     "name": "stdout",
     "output_type": "stream",
     "text": [
      "Accuracy: 0.8661999702453613 ()\n"
     ]
    },
    {
     "name": "stderr",
     "output_type": "stream",
     "text": [
      "100%|██████████████████████████████████████████████████████████████████████████████| 1926/1926 [00:25<00:00, 75.87it/s]\n",
      "  8%|██████▌                                                                         | 13/157 [00:00<00:01, 125.33it/s]"
     ]
    },
    {
     "name": "stdout",
     "output_type": "stream",
     "text": [
      "[Epoch:    5] cost = 0.477124299\n",
      "Dev\n"
     ]
    },
    {
     "name": "stderr",
     "output_type": "stream",
     "text": [
      "100%|███████████████████████████████████████████████████████████████████████████████| 157/157 [00:01<00:00, 141.44it/s]"
     ]
    },
    {
     "name": "stdout",
     "output_type": "stream",
     "text": [
      "Accuracy: 0.8780999779701233 ()\n"
     ]
    },
    {
     "name": "stderr",
     "output_type": "stream",
     "text": [
      "\n"
     ]
    }
   ],
   "source": [
    "#training\n",
    "training_epochs = 5\n",
    "\n",
    "for epoch in range(training_epochs):\n",
    "    model.train()\n",
    "    cost = 0\n",
    "    n_batches = 0\n",
    "    for X, Y in tqdm.tqdm(train_loader):\n",
    "        optimizer.zero_grad()\n",
    "        y_hat = model(X)\n",
    "        loss = criterion(y_hat, Y)\n",
    "        loss.backward()\n",
    "        optimizer.step()\n",
    "        \n",
    "        cost += loss.item()\n",
    "        n_batches += 1\n",
    "        \n",
    "    cost /= n_batches\n",
    "    print('[Epoch: {:>4}] cost = {:>.9}'.format(epoch + 1, cost))\n",
    "    print(\"Dev\")\n",
    "    test(dev_loader, model)"
   ]
  },
  {
   "cell_type": "code",
   "execution_count": 19,
   "metadata": {},
   "outputs": [
    {
     "name": "stderr",
     "output_type": "stream",
     "text": [
      "100%|███████████████████████████████████████████████████████████████████████████████| 563/563 [00:04<00:00, 115.92it/s]"
     ]
    },
    {
     "name": "stdout",
     "output_type": "stream",
     "text": [
      "Accuracy: 0.8692551255226135 ()\n"
     ]
    },
    {
     "name": "stderr",
     "output_type": "stream",
     "text": [
      "\n"
     ]
    }
   ],
   "source": [
    "test(test_loader, model)"
   ]
  },
  {
   "cell_type": "code",
   "execution_count": 20,
   "metadata": {},
   "outputs": [],
   "source": [
    "import matplotlib.pyplot as plt\n",
    "\n",
    "def imshow(img):\n",
    "    npimg = img.numpy()\n",
    "    plt.figure(figsize = (20,2))\n",
    "    print(npimg.shape)\n",
    "    plt.imshow(np.transpose(npimg, (1,2,0)))\n",
    "    plt.show()"
   ]
  },
  {
   "cell_type": "code",
   "execution_count": 21,
   "metadata": {},
   "outputs": [
    {
     "name": "stdout",
     "output_type": "stream",
     "text": [
      "torch.Size([64, 3, 28, 28])\n",
      "(3, 32, 1922)\n"
     ]
    },
    {
     "data": {
      "image/png": "[encoded data removed]",
      "text/plain": [
       "<Figure size 1440x144 with 1 Axes>"
      ]
     },
     "metadata": {
      "needs_background": "light"
     },
     "output_type": "display_data"
    },
    {
     "name": "stdout",
     "output_type": "stream",
     "text": [
      "GroundTruth\n",
      "   5   4   3   7   6   4   0   8   8   6   0   3   0   5   1   1   3   7   3   2   7   6   4   1   8   0   0   1   3   1   9   9   1   5   1   2   3   9   9   0   1   3   3   9   2   7   3   1   5   9   5   9   2   2   1   1   3   8   3   0   7   2   9   0\n",
      "Prediction\n",
      "   5   4   3   7   6   4   0   8   8   6   0   3   0   5   1   1   3   7   3   2   7   6   4   1   3   8   0   1   3   1   9   9   1   5   3   2   3   5   9   0   1   3   6   9   2   7   3   1   5   9   5   9   2   2   1   2   2   8   3   0   7   2   9   0\n"
     ]
    }
   ],
   "source": [
    "dataiter = iter(test_loader)\n",
    "images, labels = dataiter.next()\n",
    "print(images.shape)\n",
    "imshow(torchvision.utils.make_grid(images, nrow = batch_size))\n",
    "print('GroundTruth')\n",
    "print(\" \"+' '.join('%3s' % label.item() for label in labels))\n",
    "outputs = model(images)\n",
    "_, predicted = torch.max(outputs, 1)\n",
    "print('Prediction')\n",
    "print(\" \"+' '.join('%3s' % label.item() for label in predicted))"
   ]
  },
  {
   "cell_type": "code",
   "execution_count": null,
   "metadata": {},
   "outputs": [],
   "source": []
  }
 ],
 "metadata": {
  "kernelspec": {
   "display_name": "Python 3",
   "language": "python",
   "name": "python3"
  },
  "language_info": {
   "codemirror_mode": {
    "name": "ipython",
    "version": 3
   },
   "file_extension": ".py",
   "mimetype": "text/x-python",
   "name": "python",
   "nbconvert_exporter": "python",
   "pygments_lexer": "ipython3",
   "version": "3.7.6"
  }
 },
 "nbformat": 4,
 "nbformat_minor": 4
}
